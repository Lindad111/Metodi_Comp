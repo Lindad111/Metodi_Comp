{
 "cells": [
  {
   "cell_type": "code",
   "execution_count": 19,
   "metadata": {},
   "outputs": [],
   "source": [
    "import numpy as np\n",
    "import matplotlib.pyplot as plt\n",
    "import math"
   ]
  },
  {
   "cell_type": "code",
   "execution_count": 20,
   "metadata": {},
   "outputs": [],
   "source": [
    "def f(theta,y,F) :\n",
    "    return (((F*np.cos(theta))/(m2+(m1*(np.sin(theta))**2)))-((m1*(y**2)*(np.sin(theta))**2)/(2*R*(m2+(m1*(np.sin(theta)**2)))))-(((m1+m2)*g*np.sin(theta))/(m2+(m1*(np.sin(theta))**2))))\n",
    "\n",
    "def f_2(theta,csi,F):\n",
    "    return f(theta,R*F*csi,F)/((F**2)*R)"
   ]
  },
  {
   "cell_type": "code",
   "execution_count": 21,
   "metadata": {},
   "outputs": [
    {
     "ename": "SyntaxError",
     "evalue": "EOF while scanning triple-quoted string literal (<ipython-input-21-7740c4bfd669>, line 45)",
     "output_type": "error",
     "traceback": [
      "\u001b[1;36m  File \u001b[1;32m\"<ipython-input-21-7740c4bfd669>\"\u001b[1;36m, line \u001b[1;32m45\u001b[0m\n\u001b[1;33m    t = t+h\"\"\u001b[0m\n\u001b[1;37m             \n^\u001b[0m\n\u001b[1;31mSyntaxError\u001b[0m\u001b[1;31m:\u001b[0m EOF while scanning triple-quoted string literal\n"
     ]
    }
   ],
   "source": [
    "\"\"\"\"50\n",
    "t_fin=2.5\n",
    "h=t_fin/n\n",
    "theta0=0\n",
    "csi0=0\n",
    "t0=0\n",
    "m1=0.1\n",
    "m2=0.75\n",
    "g=0\n",
    "\n",
    "theta=theta0\n",
    "csi=csi0\n",
    "t=t0\n",
    "F=6\n",
    "R=0.3\n",
    "T=np.empty(n)\n",
    "Y=np.empty(n)\n",
    "\n",
    "for i in range (n):\n",
    "    theta_i=theta\n",
    "    csi_i=csi\n",
    "    t_i=t\n",
    "    T[i]=t_i\n",
    "    Y[i]=R*F*csi_i\n",
    "    \n",
    "\n",
    "\n",
    "    K1 = h*csi\n",
    "    M1 = h*f_2(theta,csi)\n",
    "\n",
    "    K2 = h*(csi+M1/2)\n",
    "    M2 = h*f_2(theta+(K1/2), csi+(M1/2))\n",
    "         \n",
    "    K3 = h*(csi+(M2/2))\n",
    "    M3 = h*f_2(theta+(K2/2),csi+(M2/2))\n",
    "         \n",
    "    K4 = h*(csi+(M3/2))\n",
    "    M4 = h*f_2(theta+K3 , csi+M3)\n",
    "             \n",
    "        \n",
    " \n",
    "    theta = theta + (K1/6)+(K2/3)+(K3/3)+(K4/6)\n",
    "    csi = csi+(M1/6)+(M2/3)+(M3/3)+(M4/6)\n",
    "    \n",
    "    t = t+h\"\""
   ]
  },
  {
   "cell_type": "code",
   "execution_count": 40,
   "metadata": {},
   "outputs": [],
   "source": [
    "R=0.3\n",
    "theta0=0\n",
    "csi0=0\n",
    "t0=0\n",
    "m1=0.1\n",
    "m2=0.75\n",
    "g=0\n",
    "\n",
    "n=10\n",
    "def RK4(F,g):\n",
    "    t_fin=2.5\n",
    "    h=t_fin/n\n",
    "    theta=theta0\n",
    "    csi=csi0\n",
    "    t=t0\n",
    "    R=0.3\n",
    "    T=np.empty(n)\n",
    "    Y=np.empty(n)\n",
    "\n",
    "    for i in range (n):\n",
    "        theta_i=theta\n",
    "        csi_i=csi\n",
    "        t_i=t\n",
    "        T[i]=t_i\n",
    "        Y[i]=R*F*csi_i\n",
    "    \n",
    "\n",
    "\n",
    "        K1 = h*csi\n",
    "        M1 = h*f_2(theta,csi,F)\n",
    "\n",
    "        K2 = h*(csi+M1/2)\n",
    "        M2 = h*f_2(theta+(K1/2), csi+(M1/2),F)\n",
    "         \n",
    "        K3 = h*(csi+(M2/2))\n",
    "        M3 = h*f_2(theta+(K2/2),csi+(M2/2),F)\n",
    "         \n",
    "        K4 = h*(csi+(M3/2))\n",
    "        M4 = h*f_2(theta+K3 , csi+M3, F)\n",
    "             \n",
    "        \n",
    " \n",
    "        theta = theta + (K1/6)+(K2/3)+(K3/3)+(K4/6)\n",
    "        csi = csi+(M1/6)+(M2/3)+(M3/3)+(M4/6)\n",
    "        t = t+h\n",
    "        \n",
    "    return T, Y"
   ]
  },
  {
   "cell_type": "code",
   "execution_count": 41,
   "metadata": {},
   "outputs": [
    {
     "data": {
      "text/plain": [
       "(array([0.  , 0.25, 0.5 , 0.75, 1.  , 1.25, 1.5 , 1.75, 2.  , 2.25]),\n",
       " array([0.        , 0.33330495, 0.66600811, 0.9949207 , 1.31146091,\n",
       "        1.59970594, 1.83759944, 2.00305151, 2.08210044, 2.07266135]))"
      ]
     },
     "execution_count": 41,
     "metadata": {},
     "output_type": "execute_result"
    }
   ],
   "source": [
    "RK4(6,0)\n"
   ]
  },
  {
   "cell_type": "code",
   "execution_count": 42,
   "metadata": {},
   "outputs": [
    {
     "data": {
      "text/plain": [
       "(array([0.  , 0.25, 0.5 , 0.75, 1.  , 1.25, 1.5 , 1.75, 2.  , 2.25]),\n",
       " array([0.        , 0.33333123, 0.66661811, 0.99962776, 1.33172993,\n",
       "        1.6616798 , 1.98740336, 2.30581221, 2.61269628, 2.90276027]))"
      ]
     },
     "execution_count": 42,
     "metadata": {},
     "output_type": "execute_result"
    }
   ],
   "source": [
    "RK4(22,0)"
   ]
  },
  {
   "cell_type": "code",
   "execution_count": null,
   "metadata": {},
   "outputs": [],
   "source": []
  }
 ],
 "metadata": {
  "kernelspec": {
   "display_name": "Python 3",
   "language": "python",
   "name": "python3"
  },
  "language_info": {
   "codemirror_mode": {
    "name": "ipython",
    "version": 3
   },
   "file_extension": ".py",
   "mimetype": "text/x-python",
   "name": "python",
   "nbconvert_exporter": "python",
   "pygments_lexer": "ipython3",
   "version": "3.8.5"
  }
 },
 "nbformat": 4,
 "nbformat_minor": 4
}
