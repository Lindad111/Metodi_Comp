{
 "cells": [
  {
   "cell_type": "code",
   "execution_count": 1,
   "metadata": {},
   "outputs": [],
   "source": [
    "import numpy as np\n",
    "import matplotlib.pyplot as plt\n",
    "\n",
    "m1 = 0.1\n",
    "m2 = 0.75\n",
    "V0 = 20\n",
    "R = 0.3\n",
    "vf = 2.353\n",
    "g = 10"
   ]
  },
  {
   "cell_type": "code",
   "execution_count": 2,
   "metadata": {},
   "outputs": [],
   "source": [
    "#Runge-Kutta per c e c'\n",
    "def f(theta,v,F) :\n",
    "    return (((F*np.cos(theta))/(m2+(m1*(np.sin(theta))**2)))-((m1*(v**2)*(np.sin(theta))**2)/(2*R*(m2+(m1*(np.sin(theta)**2)))))-(((m1+m2)*g*np.sin(theta))/(m2+(m1*(np.sin(theta))**2))))\n",
    "\n",
    "def f_3(theta,eta,F):\n",
    "    return f(theta, R*eta, F)/R\n",
    "\n",
    "n = 1000\n",
    "tfin = 0.35\n",
    "h = tfin/n\n",
    "theta0 = 0\n",
    "eta0 = 0\n",
    "t0 = 0\n",
    "F = 6\n",
    "def RK4bis(F):\n",
    "    t = t0\n",
    "    theta = theta0\n",
    "    eta = eta0\n",
    "    T = np.zeros(n)\n",
    "    X = np.zeros(n)\n",
    "    Y = np.zeros(n)\n",
    "    for i in range (n):\n",
    "        T[i] = t\n",
    "\n",
    "        K1 = h*eta\n",
    "        M1 = h*f_3(theta, eta, F)\n",
    "\n",
    "        K2 = h*(eta+M1/2)\n",
    "        M2 = h*f_3(theta+(K1/2), eta+(M1/2), F)\n",
    "\n",
    "        K3 = h*(eta+(M2/2))\n",
    "        M3 = h*f_3(theta+(K2/2), eta+(M2/2), F)\n",
    "\n",
    "        K4 = h*(eta+(M3/2))\n",
    "        M4 = h*f_3(theta+K3, eta+M3, F)\n",
    "\n",
    "        theta += (K1/6)+(K2/3)+(K3/3)+(K4/6)\n",
    "        eta += (M1/6)+(M2/3)+(M3/3)+(M4/6)\n",
    "\n",
    "        X[i] = theta\n",
    "        Y[i] = eta*R\n",
    "\n",
    "        t = t+h\n",
    "        \n",
    "    MRK = np.array((T, X, Y))\n",
    "    return MRK                  #M è una matrice con 3 righe ed n colonne. La prima riga è quella del tempo, la seconda riga è quella di teta e la terza riga è V (Tutto in funzione di Ft grazie alla trasformazione di coordinate)\n",
    "\n"
   ]
  },
  {
   "cell_type": "code",
   "execution_count": 3,
   "metadata": {},
   "outputs": [
    {
     "data": {
      "text/plain": [
       "[<matplotlib.lines.Line2D at 0x29af5afc640>]"
      ]
     },
     "execution_count": 3,
     "metadata": {},
     "output_type": "execute_result"
    },
    {
     "data": {
      "image/png": "[encoded data removed]",
      "text/plain": [
       "<Figure size 432x288 with 1 Axes>"
      ]
     },
     "metadata": {
      "needs_background": "light"
     },
     "output_type": "display_data"
    }
   ],
   "source": [
    "J = RK4bis(6)\n",
    "plt.plot(RK4bis(6)[0], RK4bis(6)[1], color=\"purple\")"
   ]
  },
  {
   "cell_type": "raw",
   "metadata": {},
   "source": [
    "Ora devo definire una funzione che sia nella prima parte uguale a quella appena definita, ma nella seconda segua l'andamento del moto di un pendolo di massa M=m1+m2"
   ]
  },
  {
   "cell_type": "code",
   "execution_count": 4,
   "metadata": {},
   "outputs": [],
   "source": [
    "#qua sfrutto risultati noti della meccanica classica\n",
    "\n",
    "v10 = 20\n",
    "omega0 = (v10/R)*(m1/(m1+m2))\n",
    "alpha0=0\n",
    "tempo0=0\n",
    "\n",
    "def seno(alpha):\n",
    "    return (-(g/R)*np.sin(alpha))\n",
    "\n",
    "def alpha():\n",
    "    alpha = alpha0\n",
    "    omega = omega0\n",
    "    tempo=tempo0\n",
    "    TT = np.zeros(n)\n",
    "    AL = np.zeros(n)\n",
    "    OM = np.zeros(n)\n",
    "    for i in range (n):\n",
    "        TT[i] = tempo\n",
    "\n",
    "        K1 = h*omega\n",
    "        M1 = h*seno(alpha)\n",
    "        \n",
    "        K2 = h*(omega+M1/2)\n",
    "        M2 = h*seno(alpha+(K1/2))\n",
    "\n",
    "        K3 = h*(omega+M2/2)\n",
    "        M3 = h*seno(alpha+(K2/2))\n",
    "        \n",
    "        K4 = h*(omega+M3/2)\n",
    "        M4 = h*seno(alpha+K3)\n",
    "\n",
    "        alpha += (K1/6)+(K2/3)+(K3/3)+(K4/6)\n",
    "        omega += (M1/6)+(M2/3)+(M3/3)+(M4/6)\n",
    "\n",
    "        AL[i] = alpha\n",
    "        OM[i] = omega\n",
    "\n",
    "        tempo = tempo+h\n",
    "        \n",
    "    MALPHA = np.array((TT, AL, OM))\n",
    "    return MALPHA               \n",
    "    \n",
    "\n"
   ]
  },
  {
   "cell_type": "code",
   "execution_count": 5,
   "metadata": {},
   "outputs": [
    {
     "data": {
      "text/plain": [
       "[<matplotlib.lines.Line2D at 0x29af5be3640>]"
      ]
     },
     "execution_count": 5,
     "metadata": {},
     "output_type": "execute_result"
    },
    {
     "data": {
      "image/png": "[encoded data removed]",
      "text/plain": [
       "<Figure size 432x288 with 1 Axes>"
      ]
     },
     "metadata": {
      "needs_background": "light"
     },
     "output_type": "display_data"
    }
   ],
   "source": [
    "J = alpha()\n",
    "plt.plot(alpha()[0], alpha()[1])"
   ]
  },
  {
   "cell_type": "code",
   "execution_count": 9,
   "metadata": {},
   "outputs": [],
   "source": [
    "#mo devo mettere tutto insieme \n",
    "\n",
    "def ManuTiAmo(F,t,tc):\n",
    "    if t<tc :\n",
    "        J = RK4bis(F)\n",
    "        plt.plot(RK4bis(F)[0], RK4bis(F)[1], color=\"purple\")\n",
    "    else:\n",
    "        J = alpha()\n",
    "        plt.plot(alpha()[0], alpha()[1], color=\"yellow\")\n",
    "    "
   ]
  },
  {
   "cell_type": "code",
   "execution_count": 10,
   "metadata": {},
   "outputs": [
    {
     "ename": "TypeError",
     "evalue": "ManuTiAmo() missing 1 required positional argument: 'tc'",
     "output_type": "error",
     "traceback": [
      "\u001b[1;31m---------------------------------------------------------------------------\u001b[0m",
      "\u001b[1;31mTypeError\u001b[0m                                 Traceback (most recent call last)",
      "\u001b[1;32m<ipython-input-10-15ce24f92a97>\u001b[0m in \u001b[0;36m<module>\u001b[1;34m\u001b[0m\n\u001b[1;32m----> 1\u001b[1;33m \u001b[0mManuTiAmo\u001b[0m\u001b[1;33m(\u001b[0m\u001b[1;36m6\u001b[0m\u001b[1;33m,\u001b[0m\u001b[1;36m0.35\u001b[0m\u001b[1;33m)\u001b[0m\u001b[1;33m\u001b[0m\u001b[1;33m\u001b[0m\u001b[0m\n\u001b[0m",
      "\u001b[1;31mTypeError\u001b[0m: ManuTiAmo() missing 1 required positional argument: 'tc'"
     ]
    }
   ],
   "source": []
  },
  {
   "cell_type": "code",
   "execution_count": null,
   "metadata": {},
   "outputs": [],
   "source": []
  }
 ],
 "metadata": {
  "kernelspec": {
   "display_name": "Python 3",
   "language": "python",
   "name": "python3"
  },
  "language_info": {
   "codemirror_mode": {
    "name": "ipython",
    "version": 3
   },
   "file_extension": ".py",
   "mimetype": "text/x-python",
   "name": "python",
   "nbconvert_exporter": "python",
   "pygments_lexer": "ipython3",
   "version": "3.8.5"
  }
 },
 "nbformat": 4,
 "nbformat_minor": 4
}
