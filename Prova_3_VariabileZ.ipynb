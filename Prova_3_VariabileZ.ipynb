{
 "cells": [
  {
   "cell_type": "code",
   "execution_count": 1,
   "metadata": {},
   "outputs": [],
   "source": [
    "import numpy as np\n",
    "import matplotlib.pyplot as plt\n",
    "import math"
   ]
  },
  {
   "cell_type": "code",
   "execution_count": 2,
   "metadata": {},
   "outputs": [],
   "source": [
    "F = 6\n",
    "V_10=20\n",
    "m1=0.1\n",
    "m2=0.75\n",
    "R=0.3\n",
    "x0=0    #tempo\n",
    "y0=0    #velocità\n",
    "theta0=0 \n",
    "\n",
    "\n",
    "X=[]\n",
    "Y=[]\n",
    "\n",
    "\n",
    "\n",
    "def f(x,y) :\n",
    "    return ((F/(m2+(m1*(np.sin(x))**2)))-((m1*(y**2)*(np.sin(x))**2)/(2*R*(m2+(m1*(np.sin(x)**2)))))-(((m1+m2)*g*np.sin(x))/(m2+(m1*(np.sin(x))**2))))"
   ]
  },
  {
   "cell_type": "code",
   "execution_count": 3,
   "metadata": {},
   "outputs": [],
   "source": [
    "def RK4(F,tfin):\n",
    "    h=0.1\n",
    "    n=int(tfin/h)\n",
    "    x=x0\n",
    "    y=y0\n",
    "    theta=theta0\n",
    "    for i in range (n):\n",
    "        x_i = x\n",
    "        y_i = y       #nell'equazione differenziale compare V/R come variabile y\n",
    "        theta_i = theta\n",
    "    \n",
    "        X.append(x_i)\n",
    "        Y.append(y_i)\n",
    "    \n",
    "\n",
    "\n",
    "        K1 = h*y/R\n",
    "        M1 = h*f(theta,y)\n",
    "\n",
    "        K2 = (h/R)*(y+R*(M1/2))\n",
    "        M2 = h*f(theta+(K1/2) , y+(M1/2))\n",
    "         \n",
    "        K3 = (h/R)*(y+R*(M2/2))\n",
    "        M3 = h*f(theta+(K2/2) , y+(M2/2))\n",
    "         \n",
    "        K4 = (h/R)*(y+R*(M3/2))\n",
    "        M4 = h*f(theta+(K3) , y+M3)\n",
    "             \n",
    "        \n",
    " \n",
    "        theta+=(K1/6)+(K2/3)+(K3/3)+(K4/6)\n",
    "        y+=(M1/6)+(M2/3)+(M3/3)+(M4/6)\n",
    "        x+=h\n",
    "    "
   ]
  },
  {
   "cell_type": "code",
   "execution_count": 4,
   "metadata": {},
   "outputs": [
    {
     "name": "stdout",
     "output_type": "stream",
     "text": [
      "[0, 0.1, 0.2]\n",
      "[0.  0.6 1.2]\n"
     ]
    },
    {
     "data": {
      "text/plain": [
       "[<matplotlib.lines.Line2D at 0x1b4b88e9820>]"
      ]
     },
     "execution_count": 4,
     "metadata": {},
     "output_type": "execute_result"
    },
    {
     "data": {
      "image/png": "[encoded data removed]",
      "text/plain": [
       "<Figure size 432x288 with 1 Axes>"
      ]
     },
     "metadata": {
      "needs_background": "light"
     },
     "output_type": "display_data"
    }
   ],
   "source": [
    "g = 0\n",
    "x=x0\n",
    "y=y0\n",
    "theta=theta0\n",
    "\n",
    "RK4(6,0.36)\n",
    "print(X)\n",
    "newX=np.multiply(X,6)\n",
    "print(newX)\n",
    "\n",
    "plt.plot(newX,Y)"
   ]
  },
  {
   "cell_type": "code",
   "execution_count": null,
   "metadata": {},
   "outputs": [],
   "source": []
  },
  {
   "cell_type": "code",
   "execution_count": null,
   "metadata": {},
   "outputs": [],
   "source": []
  }
 ],
 "metadata": {
  "kernelspec": {
   "display_name": "Python 3",
   "language": "python",
   "name": "python3"
  },
  "language_info": {
   "codemirror_mode": {
    "name": "ipython",
    "version": 3
   },
   "file_extension": ".py",
   "mimetype": "text/x-python",
   "name": "python",
   "nbconvert_exporter": "python",
   "pygments_lexer": "ipython3",
   "version": "3.8.5"
  }
 },
 "nbformat": 4,
 "nbformat_minor": 4
}
