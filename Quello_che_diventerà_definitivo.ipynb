{
 "cells": [
  {
   "cell_type": "code",
   "execution_count": 7,
   "metadata": {},
   "outputs": [],
   "source": [
    "import numpy as np\n",
    "import matplotlib.pyplot as plt\n",
    "import math "
   ]
  },
  {
   "cell_type": "code",
   "execution_count": 8,
   "metadata": {},
   "outputs": [],
   "source": [
    "m1 = 0.1\n",
    "m2 = 0.75\n",
    "V0 = 20\n",
    "R = 0.3\n",
    "vf = 2.353\n",
    "g = 0\n",
    "n = 1000"
   ]
  },
  {
   "cell_type": "code",
   "execution_count": 9,
   "metadata": {},
   "outputs": [],
   "source": [
    "#Funzioni Lineari a e b\n",
    "Ft = np.linspace(0, 2, 1000)\n",
    "\n",
    "def V1x(x):\n",
    "    return V0 - x/m1\n",
    "V1x = V1x(Ft)\n",
    "\n",
    "def v2(x):\n",
    "    return x/m2\n",
    "V2 = v2(Ft)\n",
    "\n",
    "\n",
    "#Funzioni d e d'\n",
    "def V2x(x, y):\n",
    "    return y*np.cos(x)        #Continua dopo perchè mi servono teta e V2 dall'eq. diff\n",
    "\n",
    "\n",
    "#Runge-Kutta per c e c'\n",
    "def f(x,v,F) :\n",
    "    return (((F*np.cos(x))/(m2+(m1*(np.sin(x))**2)))-((m1*(v**2)*(np.sin(x))**2)/(2*R*(m2+(m1*(np.sin(x)**2)))))-(((m1+m2)*g*np.sin(x))/(m2+(m1*(np.sin(x))**2))))\n",
    "\n",
    "def f_2(x,csi,F):\n",
    "    return f(x, R*F*csi, F)/((F**2)*R)\n",
    "\n",
    "def f_3(x,csi,F):\n",
    "    return f(x, R*csi, F)/R\n",
    "\n",
    "\n",
    "x0 = 0\n",
    "csi0 = 0\n",
    "t0 = 0\n",
    "F = 6\n",
    "def RK4(F, func, fine):\n",
    "    h = fine/n\n",
    "    t = t0\n",
    "    x = x0\n",
    "    csi = csi0\n",
    "    T = np.zeros(n)\n",
    "    X = np.zeros(n)\n",
    "    V = np.zeros(n)\n",
    "    for i in range (n):\n",
    "        T[i] = t\n",
    "        X[i] = x\n",
    "        if func == f_2:\n",
    "            V[i] = R * F * csi\n",
    "        elif func == f_3:\n",
    "            V[i] = R * csi\n",
    "\n",
    "        K1 = h*csi\n",
    "        M1 = h*func(x,csi, F)\n",
    "\n",
    "        K2 = h*(csi+M1/2)\n",
    "        M2 = h*func(x+(K1/2), csi+(M1/2), F)\n",
    "\n",
    "        K3 = h*(csi+(M2/2))\n",
    "        M3 = h*func(x+(K2/2), csi+(M2/2), F)\n",
    "\n",
    "        K4 = h*(csi+(M3/2))\n",
    "        M4 = h*func(x+K3, csi+M3, F)\n",
    "\n",
    "        x += (K1/6)+(K2/3)+(K3/3)+(K4/6)\n",
    "        csi += (M1/6)+(M2/3)+(M3/3)+(M4/6)\n",
    "        t = t+h\n",
    "        \n",
    "    M = np.array((T, X, V))\n",
    "    return M                  #M è una matrice con 3 righe ed n colonne. La prima riga è quella del tempo, la seconda riga è quella di teta e la terza riga è V (Tutto in funzione di Ft grazie alla trasformazione di coordinate)\n",
    "\n",
    "\n",
    "#Possiamo scrivere d e d'\n",
    "GA = RK4(6, f_2, 2)   #d'\n",
    "V2x_6 = np.zeros(n)\n",
    "for i in range(n):\n",
    "    V2x_6[i] = V2x(GA[1, i], GA[2, i])\n",
    "\n",
    "GB = RK4(22, f_2, 2)  #d\n",
    "V2x_22 = np.zeros(n)\n",
    "for i in range(n):\n",
    "    V2x_22[i] = V2x(GB[1, i], GB[2, i])\n"
   ]
  },
  {
   "cell_type": "code",
   "execution_count": 10,
   "metadata": {
    "scrolled": true
   },
   "outputs": [
    {
     "data": {
      "image/png": "[encoded data removed]",
      "text/plain": [
       "<Figure size 432x288 with 1 Axes>"
      ]
     },
     "metadata": {
      "needs_background": "light"
     },
     "output_type": "display_data"
    }
   ],
   "source": [
    "#Plottiamo tutte e 6 le Curve\n",
    "plt.plot(GA[0], V2x_6, color=\"yellow\")            #d'\n",
    "plt.plot(GB[0], V2x_22, color=\"orange\")           #d\n",
    "\n",
    "plt.plot(GA[0], GA[2], color=\"black\")             #c'\n",
    "plt.plot(GB[0], GB[2], color=\"blue\")              #c\n",
    "\n",
    "plt.plot(Ft, V1x, color=\"green\")                  #a\n",
    "plt.plot(Ft, V2, color=\"red\")                     #b\n",
    "\n",
    "plt.xlabel(\"Ft\")\n",
    "plt.ylabel(\"Velocity\")\n",
    "plt.xlim(0, 2.5)\n",
    "plt.ylim(0, 5)\n",
    "plt.show()\n"
   ]
  },
  {
   "cell_type": "code",
   "execution_count": 11,
   "metadata": {},
   "outputs": [
    {
     "name": "stdout",
     "output_type": "stream",
     "text": [
      "10\n"
     ]
    }
   ],
   "source": [
    "FF = np.array((5, 6, 7, 8, 10, 12, 15, 18, 21, 25))\n",
    "\n",
    "G1 = RK4(5, f_2, 2)  #d\n",
    "V2x_5 = np.zeros(n)\n",
    "for i in range(n):\n",
    "    V2x_5[i] = V2x(G1[1, i], G1[2, i])\n",
    "    \n",
    "    \n",
    "G2 = RK4(6, f_2, 2)  #d\n",
    "V2x_6 = np.zeros(n)\n",
    "for i in range(n):\n",
    "    V2x_6[i] = V2x(G2[1, i], G2[2, i])\n",
    "    \n",
    "\n",
    "    \n",
    "G3 = RK4(7, f_2, 2)  #d\n",
    "V2x_7 = np.zeros(n)\n",
    "for i in range(n):\n",
    "    V2x_7[i] = V2x(G3[1, i], G3[2, i])\n",
    "    \n",
    "G4 = RK4(8, f_2, 2)  #d\n",
    "V2x_8 = np.zeros(n)\n",
    "for i in range(n):\n",
    "    V2x_8[i] = V2x(G4[1, i], G4[2, i])\n",
    "    \n",
    "    \n",
    "G5 = RK4(10, f_2, 2)  #d\n",
    "V2x_10 = np.zeros(n)\n",
    "for i in range(n):\n",
    "    V2x_10[i] = V2x(G5[1, i], G5[2, i])  \n",
    "    \n",
    "    \n",
    "G6 = RK4(12, f_2, 2)  #d\n",
    "V2x_12 = np.zeros(n)\n",
    "for i in range(n):\n",
    "    V2x_12[i] = V2x(G6[1, i], G6[2, i])\n",
    "    \n",
    "    \n",
    "    \n",
    "G7 = RK4(15, f_2, 2)  #d\n",
    "V2x_15 = np.zeros(n)\n",
    "for i in range(n):\n",
    "    V2x_15[i] = V2x(G7[1, i], G7[2, i])\n",
    "\n",
    "G8 = RK4(18, f_2, 2)  #d\n",
    "V2x_18 = np.zeros(n)\n",
    "for i in range(n):\n",
    "    V2x_18[i] = V2x(G8[1, i], G8[2, i])\n",
    "    \n",
    "\n",
    "G9 = RK4(21, f_2, 2)  #d\n",
    "V2x_21 = np.zeros(n)\n",
    "for i in range(n):\n",
    "    V2x_21[i] = V2x(G9[1, i], G9[2, i])\n",
    "    \n",
    "    \n",
    "G10 = RK4(25, f_2, 2)  #d\n",
    "V2x_25 = np.zeros(n)\n",
    "for i in range(n):\n",
    "    V2x_25[i] = V2x(G10[1, i], G10[2, i])\n",
    "\n",
    "print(len(FF))"
   ]
  },
  {
   "cell_type": "code",
   "execution_count": 14,
   "metadata": {},
   "outputs": [
    {
     "name": "stdout",
     "output_type": "stream",
     "text": [
      "[1.988 1.93  1.888 1.856 1.82  1.8   1.784 1.78  1.784 1.776] [0.0182644  0.59373872 1.02624531 1.33406112 1.70186679 1.90164137\n",
      " 2.06298672 2.15283671 2.21327635 2.25296493] [1.988 1.93  1.888 1.856 1.82  1.8   1.784 1.78  1.784 1.776]\n"
     ]
    }
   ],
   "source": [
    "G=np.array(( G1, G2, G3, G4, G5, G6, G7, G8, G9, G10))\n",
    "V = np.array((V2x_5, V2x_6, V2x_7, V2x_8, V2x_10, V2x_12, V2x_15, V2x_18, V2x_21, V2x_25))\n",
    "\n",
    "\n",
    "VA=np.zeros(10)\n",
    "VB=np.zeros(10)\n",
    "VT= np.zeros(10)\n",
    "for l in range (10):\n",
    "    Vx=[]\n",
    "    Vy=[]\n",
    "    Vth = []\n",
    "    e=0.01\n",
    "    for m in range (n):\n",
    "        for c in range (n):\n",
    "            if (abs(Ft[m]-G[l,0,c]))<=e:\n",
    "                if (abs(V1x[m]-V[l,c]))<=e:\n",
    "                    Vx = np.append(Vx, G[l,0,c])\n",
    "                    Vy = np.append(Vy, V[l,c])\n",
    "                    Vth = np.append(Vx, G[l,1,c])\n",
    "            \n",
    "    VA[l] = Vx[0]\n",
    "    VB[l] = Vy[0]\n",
    "    VT[l] = Vth[0]\n",
    "\n",
    "                \n",
    "                \n",
    "                \n",
    "                \n",
    "                \n",
    "print (VA, VB, VT)\n"
   ]
  },
  {
   "cell_type": "code",
   "execution_count": 15,
   "metadata": {},
   "outputs": [],
   "source": [
    "VELOCITA = np.zeros(len(FF))\n",
    "THETA = np.zeros(len(FF))\n",
    "grad = 57.2958\n",
    "for s in range(len(FF)):\n",
    "    VELOCITA[s] = VB[s]\n",
    "    THETA [s] = VT[s]*grad"
   ]
  },
  {
   "cell_type": "code",
   "execution_count": 16,
   "metadata": {},
   "outputs": [
    {
     "data": {
      "image/png": "[encoded data removed]",
      "text/plain": [
       "<Figure size 432x288 with 1 Axes>"
      ]
     },
     "metadata": {
      "needs_background": "light"
     },
     "output_type": "display_data"
    },
    {
     "data": {
      "image/png": "[encoded data removed]",
      "text/plain": [
       "<Figure size 432x288 with 1 Axes>"
      ]
     },
     "metadata": {
      "needs_background": "light"
     },
     "output_type": "display_data"
    }
   ],
   "source": [
    "C = np.ones(len(FF))*2.355\n",
    "plt.plot(FF, VELOCITA, color=\"black\", marker=\"o\")\n",
    "plt.plot(FF, C, linestyle='-')\n",
    "plt.ylim(0, 2.5)\n",
    "plt.xlim(0, 30)\n",
    "plt.xlabel(\"Frictional Force\")\n",
    "plt.ylabel(\"Velocity\")\n",
    "plt.show()\n",
    "\n",
    "grad = 57.2958\n",
    "plt.plot(FF, THETA, color=\"red\", marker=\"o\")\n",
    "plt.xlabel(\"Frictional Force\")\n",
    "plt.ylabel(\"Angle (degrees)\")\n",
    "plt.ylim(0, 90)\n",
    "plt.xlim(0, 30)\n",
    "plt.show()"
   ]
  },
  {
   "cell_type": "code",
   "execution_count": null,
   "metadata": {},
   "outputs": [],
   "source": []
  },
  {
   "cell_type": "code",
   "execution_count": null,
   "metadata": {},
   "outputs": [],
   "source": []
  }
 ],
 "metadata": {
  "kernelspec": {
   "display_name": "Python 3",
   "language": "python",
   "name": "python3"
  },
  "language_info": {
   "codemirror_mode": {
    "name": "ipython",
    "version": 3
   },
   "file_extension": ".py",
   "mimetype": "text/x-python",
   "name": "python",
   "nbconvert_exporter": "python",
   "pygments_lexer": "ipython3",
   "version": "3.8.5"
  }
 },
 "nbformat": 4,
 "nbformat_minor": 4
}
